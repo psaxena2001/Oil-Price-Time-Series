{
 "cells": [
  {
   "cell_type": "code",
   "execution_count": 1,
   "id": "d09c64af",
   "metadata": {
    "_cell_guid": "b1076dfc-b9ad-4769-8c92-a6c4dae69d19",
    "_uuid": "8f2839f25d086af736a60e9eeb907d3b93b6e0e5",
    "execution": {
     "iopub.execute_input": "2022-10-02T18:12:48.940985Z",
     "iopub.status.busy": "2022-10-02T18:12:48.940539Z",
     "iopub.status.idle": "2022-10-02T18:12:48.953996Z",
     "shell.execute_reply": "2022-10-02T18:12:48.952861Z"
    },
    "papermill": {
     "duration": 0.028068,
     "end_time": "2022-10-02T18:12:48.956818",
     "exception": false,
     "start_time": "2022-10-02T18:12:48.928750",
     "status": "completed"
    },
    "tags": []
   },
   "outputs": [
    {
     "name": "stdout",
     "output_type": "stream",
     "text": [
      "/kaggle/input/store-sales-time-series-forecasting/oil.csv\n",
      "/kaggle/input/store-sales-time-series-forecasting/sample_submission.csv\n",
      "/kaggle/input/store-sales-time-series-forecasting/holidays_events.csv\n",
      "/kaggle/input/store-sales-time-series-forecasting/stores.csv\n",
      "/kaggle/input/store-sales-time-series-forecasting/train.csv\n",
      "/kaggle/input/store-sales-time-series-forecasting/test.csv\n",
      "/kaggle/input/store-sales-time-series-forecasting/transactions.csv\n"
     ]
    }
   ],
   "source": [
    "# This Python 3 environment comes with many helpful analytics libraries installed\n",
    "# It is defined by the kaggle/python Docker image: https://github.com/kaggle/docker-python\n",
    "# For example, here's several helpful packages to load\n",
    "\n",
    "import numpy as np # linear algebra\n",
    "import pandas as pd # data processing, CSV file I/O (e.g. pd.read_csv)\n",
    "\n",
    "# Input data files are available in the read-only \"../input/\" directory\n",
    "# For example, running this (by clicking run or pressing Shift+Enter) will list all files under the input directory\n",
    "\n",
    "import os\n",
    "for dirname, _, filenames in os.walk('/kaggle/input'):\n",
    "    for filename in filenames:\n",
    "        print(os.path.join(dirname, filename))\n",
    "\n",
    "# You can write up to 20GB to the current directory (/kaggle/working/) that gets preserved as output when you create a version using \"Save & Run All\" \n",
    "# You can also write temporary files to /kaggle/temp/, but they won't be saved outside of the current session"
   ]
  },
  {
   "cell_type": "code",
   "execution_count": 2,
   "id": "5744a381",
   "metadata": {
    "execution": {
     "iopub.execute_input": "2022-10-02T18:12:48.976797Z",
     "iopub.status.busy": "2022-10-02T18:12:48.976121Z",
     "iopub.status.idle": "2022-10-02T18:12:56.306116Z",
     "shell.execute_reply": "2022-10-02T18:12:56.304952Z"
    },
    "papermill": {
     "duration": 7.342685,
     "end_time": "2022-10-02T18:12:56.308699",
     "exception": false,
     "start_time": "2022-10-02T18:12:48.966014",
     "status": "completed"
    },
    "tags": []
   },
   "outputs": [],
   "source": [
    "\n",
    "import datetime\n",
    "from pylab import rcParams\n",
    "import matplotlib.pyplot as plt\n",
    "import warnings\n",
    "import itertools\n",
    "import statsmodels.api as sm\n",
    "from keras.models import Sequential\n",
    "from keras.layers import Dense\n",
    "from keras.layers import LSTM\n",
    "from keras.layers import Bidirectional\n",
    "from keras.layers import Dropout\n",
    "from sklearn.metrics import mean_squared_error\n",
    "from keras.callbacks import EarlyStopping, ModelCheckpoint\n",
    "from sklearn.metrics import mean_squared_error\n",
    "from sklearn.metrics import mean_absolute_error\n",
    "import seaborn as sns\n",
    "sns.set_context(\"paper\", font_scale=1.3)\n",
    "sns.set_style('white')\n",
    "import math\n",
    "from sklearn.preprocessing import MinMaxScaler\n",
    "\n",
    "from statsmodels.tsa.deterministic import DeterministicProcess, CalendarFourier\n",
    "from statsmodels.graphics.tsaplots import plot_pacf"
   ]
  },
  {
   "cell_type": "code",
   "execution_count": 3,
   "id": "0619c62d",
   "metadata": {
    "execution": {
     "iopub.execute_input": "2022-10-02T18:12:56.328976Z",
     "iopub.status.busy": "2022-10-02T18:12:56.327846Z",
     "iopub.status.idle": "2022-10-02T18:12:56.356395Z",
     "shell.execute_reply": "2022-10-02T18:12:56.355265Z"
    },
    "papermill": {
     "duration": 0.04109,
     "end_time": "2022-10-02T18:12:56.358786",
     "exception": false,
     "start_time": "2022-10-02T18:12:56.317696",
     "status": "completed"
    },
    "tags": []
   },
   "outputs": [
    {
     "data": {
      "text/html": [
       "<div>\n",
       "<style scoped>\n",
       "    .dataframe tbody tr th:only-of-type {\n",
       "        vertical-align: middle;\n",
       "    }\n",
       "\n",
       "    .dataframe tbody tr th {\n",
       "        vertical-align: top;\n",
       "    }\n",
       "\n",
       "    .dataframe thead th {\n",
       "        text-align: right;\n",
       "    }\n",
       "</style>\n",
       "<table border=\"1\" class=\"dataframe\">\n",
       "  <thead>\n",
       "    <tr style=\"text-align: right;\">\n",
       "      <th></th>\n",
       "      <th>date</th>\n",
       "      <th>dcoilwtico</th>\n",
       "    </tr>\n",
       "  </thead>\n",
       "  <tbody>\n",
       "    <tr>\n",
       "      <th>0</th>\n",
       "      <td>2013-01-01</td>\n",
       "      <td>NaN</td>\n",
       "    </tr>\n",
       "    <tr>\n",
       "      <th>1</th>\n",
       "      <td>2013-01-02</td>\n",
       "      <td>93.14</td>\n",
       "    </tr>\n",
       "    <tr>\n",
       "      <th>2</th>\n",
       "      <td>2013-01-03</td>\n",
       "      <td>92.97</td>\n",
       "    </tr>\n",
       "    <tr>\n",
       "      <th>3</th>\n",
       "      <td>2013-01-04</td>\n",
       "      <td>93.12</td>\n",
       "    </tr>\n",
       "    <tr>\n",
       "      <th>4</th>\n",
       "      <td>2013-01-07</td>\n",
       "      <td>93.20</td>\n",
       "    </tr>\n",
       "  </tbody>\n",
       "</table>\n",
       "</div>"
      ],
      "text/plain": [
       "         date  dcoilwtico\n",
       "0  2013-01-01         NaN\n",
       "1  2013-01-02       93.14\n",
       "2  2013-01-03       92.97\n",
       "3  2013-01-04       93.12\n",
       "4  2013-01-07       93.20"
      ]
     },
     "execution_count": 3,
     "metadata": {},
     "output_type": "execute_result"
    }
   ],
   "source": [
    "df = pd.read_csv('/kaggle/input/store-sales-time-series-forecasting/oil.csv')\n",
    "df.head()"
   ]
  },
  {
   "cell_type": "code",
   "execution_count": 4,
   "id": "8b1f0ca7",
   "metadata": {
    "execution": {
     "iopub.execute_input": "2022-10-02T18:12:56.379160Z",
     "iopub.status.busy": "2022-10-02T18:12:56.378120Z",
     "iopub.status.idle": "2022-10-02T18:12:56.436042Z",
     "shell.execute_reply": "2022-10-02T18:12:56.434537Z"
    },
    "papermill": {
     "duration": 0.071132,
     "end_time": "2022-10-02T18:12:56.439010",
     "exception": false,
     "start_time": "2022-10-02T18:12:56.367878",
     "status": "completed"
    },
    "tags": []
   },
   "outputs": [
    {
     "name": "stdout",
     "output_type": "stream",
     "text": [
      "==================== DATAFRAME SHAPE ====================\n",
      "Dataframe has 1218 rows and 2 columns\n",
      "\n",
      "\n",
      "==================== Dataframe Info ====================\n",
      "<class 'pandas.core.frame.DataFrame'>\n",
      "RangeIndex: 1218 entries, 0 to 1217\n",
      "Data columns (total 2 columns):\n",
      " #   Column      Non-Null Count  Dtype  \n",
      "---  ------      --------------  -----  \n",
      " 0   date        1218 non-null   object \n",
      " 1   dcoilwtico  1175 non-null   float64\n",
      "dtypes: float64(1), object(1)\n",
      "memory usage: 19.2+ KB\n"
     ]
    },
    {
     "data": {
      "text/plain": [
       "None"
      ]
     },
     "metadata": {},
     "output_type": "display_data"
    },
    {
     "name": "stdout",
     "output_type": "stream",
     "text": [
      "\n",
      "\n",
      "==================== Dataframe Describe ====================\n"
     ]
    },
    {
     "data": {
      "text/html": [
       "<div>\n",
       "<style scoped>\n",
       "    .dataframe tbody tr th:only-of-type {\n",
       "        vertical-align: middle;\n",
       "    }\n",
       "\n",
       "    .dataframe tbody tr th {\n",
       "        vertical-align: top;\n",
       "    }\n",
       "\n",
       "    .dataframe thead th {\n",
       "        text-align: right;\n",
       "    }\n",
       "</style>\n",
       "<table border=\"1\" class=\"dataframe\">\n",
       "  <thead>\n",
       "    <tr style=\"text-align: right;\">\n",
       "      <th></th>\n",
       "      <th>count</th>\n",
       "      <th>mean</th>\n",
       "      <th>std</th>\n",
       "      <th>min</th>\n",
       "      <th>25%</th>\n",
       "      <th>50%</th>\n",
       "      <th>75%</th>\n",
       "      <th>max</th>\n",
       "    </tr>\n",
       "  </thead>\n",
       "  <tbody>\n",
       "    <tr>\n",
       "      <th>dcoilwtico</th>\n",
       "      <td>1175.0</td>\n",
       "      <td>67.714366</td>\n",
       "      <td>25.630476</td>\n",
       "      <td>26.19</td>\n",
       "      <td>46.405</td>\n",
       "      <td>53.19</td>\n",
       "      <td>95.66</td>\n",
       "      <td>110.62</td>\n",
       "    </tr>\n",
       "  </tbody>\n",
       "</table>\n",
       "</div>"
      ],
      "text/plain": [
       "             count       mean        std    min     25%    50%    75%     max\n",
       "dcoilwtico  1175.0  67.714366  25.630476  26.19  46.405  53.19  95.66  110.62"
      ]
     },
     "metadata": {},
     "output_type": "display_data"
    },
    {
     "name": "stdout",
     "output_type": "stream",
     "text": [
      "\n",
      "\n"
     ]
    },
    {
     "data": {
      "text/html": [
       "<div>\n",
       "<style scoped>\n",
       "    .dataframe tbody tr th:only-of-type {\n",
       "        vertical-align: middle;\n",
       "    }\n",
       "\n",
       "    .dataframe tbody tr th {\n",
       "        vertical-align: top;\n",
       "    }\n",
       "\n",
       "    .dataframe thead th {\n",
       "        text-align: right;\n",
       "    }\n",
       "</style>\n",
       "<table border=\"1\" class=\"dataframe\">\n",
       "  <thead>\n",
       "    <tr style=\"text-align: right;\">\n",
       "      <th></th>\n",
       "      <th>Name</th>\n",
       "      <th>Unique</th>\n",
       "      <th>Missing</th>\n",
       "    </tr>\n",
       "  </thead>\n",
       "  <tbody>\n",
       "    <tr>\n",
       "      <th>0</th>\n",
       "      <td>dcoilwtico</td>\n",
       "      <td>998</td>\n",
       "      <td>43</td>\n",
       "    </tr>\n",
       "    <tr>\n",
       "      <th>1</th>\n",
       "      <td>date</td>\n",
       "      <td>1218</td>\n",
       "      <td>0</td>\n",
       "    </tr>\n",
       "  </tbody>\n",
       "</table>\n",
       "</div>"
      ],
      "text/plain": [
       "         Name  Unique  Missing\n",
       "0  dcoilwtico     998       43\n",
       "1        date    1218        0"
      ]
     },
     "execution_count": 4,
     "metadata": {},
     "output_type": "execute_result"
    }
   ],
   "source": [
    "def shape(dataframe):\n",
    "    print('='*20,'DATAFRAME SHAPE','='*20)\n",
    "    print('Dataframe has {} rows and {} columns'.format(dataframe.shape[0],dataframe.shape[1]))\n",
    "    print('\\n')\n",
    "\n",
    "def info(dataframe):\n",
    "    print('='*20,'Dataframe Info','='*20)\n",
    "    display(dataframe.info())\n",
    "    print('\\n')\n",
    "    \n",
    "def describe(dataframe):\n",
    "    print('='*20,'Dataframe Describe','='*20)\n",
    "    display(dataframe.describe().T)\n",
    "    print('\\n')\n",
    "    \n",
    "def missing_unique_values(dataframe):\n",
    "    missing = pd.DataFrame({'Name':dataframe.columns,\n",
    "                            'Unique':[dataframe[col].nunique() for col in df.columns],\n",
    "                            'Missing': [dataframe[col].isna().sum() for col in dataframe.columns]})\n",
    "    missing = missing.sort_values(by='Missing',ascending=False).reset_index(drop=True)\n",
    "    return missing\n",
    "\n",
    "shape(df)\n",
    "info(df)\n",
    "describe(df)\n",
    "missing_unique_values(df)\n",
    "    "
   ]
  },
  {
   "cell_type": "code",
   "execution_count": 5,
   "id": "a63c8d5c",
   "metadata": {
    "execution": {
     "iopub.execute_input": "2022-10-02T18:12:56.462388Z",
     "iopub.status.busy": "2022-10-02T18:12:56.461618Z",
     "iopub.status.idle": "2022-10-02T18:12:56.470846Z",
     "shell.execute_reply": "2022-10-02T18:12:56.469783Z"
    },
    "papermill": {
     "duration": 0.024427,
     "end_time": "2022-10-02T18:12:56.473309",
     "exception": false,
     "start_time": "2022-10-02T18:12:56.448882",
     "status": "completed"
    },
    "tags": []
   },
   "outputs": [],
   "source": [
    "df = df.rename(columns={'dcoilwtico':'Price'})\n",
    "df['date'] = pd.to_datetime(df['date'])"
   ]
  },
  {
   "cell_type": "code",
   "execution_count": 6,
   "id": "a4ca88b9",
   "metadata": {
    "execution": {
     "iopub.execute_input": "2022-10-02T18:12:56.494997Z",
     "iopub.status.busy": "2022-10-02T18:12:56.494150Z",
     "iopub.status.idle": "2022-10-02T18:12:56.500302Z",
     "shell.execute_reply": "2022-10-02T18:12:56.499060Z"
    },
    "papermill": {
     "duration": 0.019517,
     "end_time": "2022-10-02T18:12:56.502645",
     "exception": false,
     "start_time": "2022-10-02T18:12:56.483128",
     "status": "completed"
    },
    "tags": []
   },
   "outputs": [],
   "source": [
    "df.set_index('date',inplace=True)"
   ]
  },
  {
   "cell_type": "markdown",
   "id": "15687851",
   "metadata": {
    "papermill": {
     "duration": 0.009495,
     "end_time": "2022-10-02T18:12:56.521981",
     "exception": false,
     "start_time": "2022-10-02T18:12:56.512486",
     "status": "completed"
    },
    "tags": []
   },
   "source": [
    "<div style=\"color:white;\n",
    "           display:fill;\n",
    "           border-radius:5px;\n",
    "           background-color:black;\n",
    "           font-size:110%;\n",
    "           font-family:Verdana;\n",
    "           letter-spacing:0.5px\">\n",
    "\n",
    "<p style=\"padding: 10px;\n",
    "              color:white;\n",
    "              text-align:center;\">\n",
    "                            Backword Fill to fill the missing values\n",
    "              \n",
    "</p>\n",
    "</div>"
   ]
  },
  {
   "cell_type": "code",
   "execution_count": 7,
   "id": "47882a96",
   "metadata": {
    "execution": {
     "iopub.execute_input": "2022-10-02T18:12:56.543422Z",
     "iopub.status.busy": "2022-10-02T18:12:56.542993Z",
     "iopub.status.idle": "2022-10-02T18:12:56.926902Z",
     "shell.execute_reply": "2022-10-02T18:12:56.925741Z"
    },
    "papermill": {
     "duration": 0.397899,
     "end_time": "2022-10-02T18:12:56.929674",
     "exception": false,
     "start_time": "2022-10-02T18:12:56.531775",
     "status": "completed"
    },
    "tags": []
   },
   "outputs": [
    {
     "data": {
      "text/plain": [
       "<AxesSubplot:title={'center':'Oil Prices'}, xlabel='date'>"
      ]
     },
     "execution_count": 7,
     "metadata": {},
     "output_type": "execute_result"
    },
    {
     "data": {
      "image/png": "[encoded data removed]",
      "text/plain": [
       "<Figure size 1440x504 with 1 Axes>"
      ]
     },
     "metadata": {},
     "output_type": "display_data"
    }
   ],
   "source": [
    "df['Price'].plot(title='Oil Prices',marker='o',figsize=(20,7))"
   ]
  },
  {
   "cell_type": "code",
   "execution_count": 8,
   "id": "b50fb60b",
   "metadata": {
    "execution": {
     "iopub.execute_input": "2022-10-02T18:12:56.953406Z",
     "iopub.status.busy": "2022-10-02T18:12:56.952416Z",
     "iopub.status.idle": "2022-10-02T18:12:57.341381Z",
     "shell.execute_reply": "2022-10-02T18:12:57.340231Z"
    },
    "papermill": {
     "duration": 0.40373,
     "end_time": "2022-10-02T18:12:57.344244",
     "exception": false,
     "start_time": "2022-10-02T18:12:56.940514",
     "status": "completed"
    },
    "tags": []
   },
   "outputs": [
    {
     "data": {
      "text/plain": [
       "<AxesSubplot:title={'center':'Oil Price'}, xlabel='date'>"
      ]
     },
     "execution_count": 8,
     "metadata": {},
     "output_type": "execute_result"
    },
    {
     "data": {
      "image/png": "[encoded data removed]",
      "text/plain": [
       "<Figure size 1440x504 with 1 Axes>"
      ]
     },
     "metadata": {},
     "output_type": "display_data"
    }
   ],
   "source": [
    "bfill_imp = df.fillna(method='bfill')\n",
    "bfill_imp['Price'].plot(color='red', marker='o', linestyle='dotted')\n",
    "df['Price'].plot(title='Oil Price', marker='o',figsize=(20,7))"
   ]
  },
  {
   "cell_type": "code",
   "execution_count": 9,
   "id": "64f07c40",
   "metadata": {
    "execution": {
     "iopub.execute_input": "2022-10-02T18:12:57.370181Z",
     "iopub.status.busy": "2022-10-02T18:12:57.369532Z",
     "iopub.status.idle": "2022-10-02T18:12:57.377307Z",
     "shell.execute_reply": "2022-10-02T18:12:57.376525Z"
    },
    "papermill": {
     "duration": 0.023385,
     "end_time": "2022-10-02T18:12:57.379554",
     "exception": false,
     "start_time": "2022-10-02T18:12:57.356169",
     "status": "completed"
    },
    "tags": []
   },
   "outputs": [],
   "source": [
    "df = df.fillna(method = 'bfill')\n",
    "df = df.reset_index()\n",
    "df = df.sort_values('date')\n",
    "df.set_index('date',inplace=True)"
   ]
  },
  {
   "cell_type": "code",
   "execution_count": 10,
   "id": "325dca45",
   "metadata": {
    "execution": {
     "iopub.execute_input": "2022-10-02T18:12:57.405022Z",
     "iopub.status.busy": "2022-10-02T18:12:57.404608Z",
     "iopub.status.idle": "2022-10-02T18:12:57.412535Z",
     "shell.execute_reply": "2022-10-02T18:12:57.411526Z"
    },
    "papermill": {
     "duration": 0.02316,
     "end_time": "2022-10-02T18:12:57.414780",
     "exception": false,
     "start_time": "2022-10-02T18:12:57.391620",
     "status": "completed"
    },
    "tags": []
   },
   "outputs": [
    {
     "data": {
      "text/plain": [
       "DatetimeIndex(['2013-01-01', '2013-01-02', '2013-01-03', '2013-01-04',\n",
       "               '2013-01-07', '2013-01-08', '2013-01-09', '2013-01-10',\n",
       "               '2013-01-11', '2013-01-14',\n",
       "               ...\n",
       "               '2017-08-18', '2017-08-21', '2017-08-22', '2017-08-23',\n",
       "               '2017-08-24', '2017-08-25', '2017-08-28', '2017-08-29',\n",
       "               '2017-08-30', '2017-08-31'],\n",
       "              dtype='datetime64[ns]', name='date', length=1218, freq=None)"
      ]
     },
     "execution_count": 10,
     "metadata": {},
     "output_type": "execute_result"
    }
   ],
   "source": [
    "df.index"
   ]
  },
  {
   "cell_type": "code",
   "execution_count": 11,
   "id": "6f7ad880",
   "metadata": {
    "execution": {
     "iopub.execute_input": "2022-10-02T18:12:57.440483Z",
     "iopub.status.busy": "2022-10-02T18:12:57.440067Z",
     "iopub.status.idle": "2022-10-02T18:12:59.078600Z",
     "shell.execute_reply": "2022-10-02T18:12:59.077433Z"
    },
    "papermill": {
     "duration": 1.654211,
     "end_time": "2022-10-02T18:12:59.081060",
     "exception": false,
     "start_time": "2022-10-02T18:12:57.426849",
     "status": "completed"
    },
    "tags": []
   },
   "outputs": [
    {
     "data": {
      "image/png": "[encoded data removed]",
      "text/plain": [
       "<Figure size 1296x576 with 4 Axes>"
      ]
     },
     "metadata": {},
     "output_type": "display_data"
    }
   ],
   "source": [
    "y = df['Price'].resample('MS').mean()\n",
    "rcParams['figure.figsize'] = 18, 8\n",
    "decomposition = sm.tsa.seasonal_decompose(y, model='additive')\n",
    "fig = decomposition.plot()\n",
    "plt.show()"
   ]
  },
  {
   "cell_type": "markdown",
   "id": "b7c4bf20",
   "metadata": {
    "papermill": {
     "duration": 0.012901,
     "end_time": "2022-10-02T18:12:59.107203",
     "exception": false,
     "start_time": "2022-10-02T18:12:59.094302",
     "status": "completed"
    },
    "tags": []
   },
   "source": [
    "<div style=\"color:white;\n",
    "           display:fill;\n",
    "           border-radius:5px;\n",
    "           background-color:black;\n",
    "           font-size:110%;\n",
    "           font-family:Verdana;\n",
    "           letter-spacing:0.5px\">\n",
    "\n",
    "<p style=\"padding: 10px;\n",
    "              color:white;\n",
    "              text-align:center;\">\n",
    "                            Convert the array values into dataset matirx\n",
    "              \n",
    "</p>\n"
   ]
  },
  {
   "cell_type": "code",
   "execution_count": 12,
   "id": "adc12c67",
   "metadata": {
    "execution": {
     "iopub.execute_input": "2022-10-02T18:12:59.136445Z",
     "iopub.status.busy": "2022-10-02T18:12:59.135163Z",
     "iopub.status.idle": "2022-10-02T18:12:59.142911Z",
     "shell.execute_reply": "2022-10-02T18:12:59.141958Z"
    },
    "papermill": {
     "duration": 0.024793,
     "end_time": "2022-10-02T18:12:59.145299",
     "exception": false,
     "start_time": "2022-10-02T18:12:59.120506",
     "status": "completed"
    },
    "tags": []
   },
   "outputs": [],
   "source": [
    "def create_dataset(dataset, look_back=1):\n",
    "    dataX, dataY = [], []\n",
    "    \n",
    "    for i in range(len(dataset) - look_back-1):\n",
    "                a = dataset[i:(i+look_back), 0]\n",
    "                dataX.append(a)\n",
    "                dataY.append(dataset[i + look_back, 0])\n",
    "    \n",
    "    return np.array(dataX), np.array(dataY)\n",
    "    "
   ]
  },
  {
   "cell_type": "markdown",
   "id": "5899fcc6",
   "metadata": {
    "papermill": {
     "duration": 0.012893,
     "end_time": "2022-10-02T18:12:59.171179",
     "exception": false,
     "start_time": "2022-10-02T18:12:59.158286",
     "status": "completed"
    },
    "tags": []
   },
   "source": [
    "<div style=\"color:white;\n",
    "           display:fill;\n",
    "           border-radius:5px;\n",
    "           background-color:black;\n",
    "           font-size:110%;\n",
    "           font-family:Verdana;\n",
    "           letter-spacing:0.5px\">\n",
    "\n",
    "<p style=\"padding: 10px;\n",
    "              color:white;\n",
    "              text-align:center;\">\n",
    "                            Using MinMax scaler for feature scaling\n",
    "              \n",
    "</p>\n"
   ]
  },
  {
   "cell_type": "code",
   "execution_count": 13,
   "id": "4ef1a680",
   "metadata": {
    "execution": {
     "iopub.execute_input": "2022-10-02T18:12:59.198838Z",
     "iopub.status.busy": "2022-10-02T18:12:59.198270Z",
     "iopub.status.idle": "2022-10-02T18:12:59.209099Z",
     "shell.execute_reply": "2022-10-02T18:12:59.208011Z"
    },
    "papermill": {
     "duration": 0.02721,
     "end_time": "2022-10-02T18:12:59.211296",
     "exception": false,
     "start_time": "2022-10-02T18:12:59.184086",
     "status": "completed"
    },
    "tags": []
   },
   "outputs": [
    {
     "data": {
      "text/plain": [
       "array([[0.79296459],\n",
       "       [0.79296459],\n",
       "       [0.79095108]])"
      ]
     },
     "execution_count": 13,
     "metadata": {},
     "output_type": "execute_result"
    }
   ],
   "source": [
    "scaler = MinMaxScaler(feature_range=(0,1))\n",
    "df = scaler.fit_transform(df)\n",
    "df[:3]"
   ]
  },
  {
   "cell_type": "markdown",
   "id": "b1c060e3",
   "metadata": {
    "papermill": {
     "duration": 0.01287,
     "end_time": "2022-10-02T18:12:59.237146",
     "exception": false,
     "start_time": "2022-10-02T18:12:59.224276",
     "status": "completed"
    },
    "tags": []
   },
   "source": [
    "<div style=\"color:white;\n",
    "           display:fill;\n",
    "           border-radius:5px;\n",
    "           background-color:black;\n",
    "           font-size:110%;\n",
    "           font-family:Verdana;\n",
    "           letter-spacing:0.5px\">\n",
    "\n",
    "<p style=\"padding: 10px;\n",
    "              color:white;\n",
    "              text-align:center;\">\n",
    "                            Split the dataset into train and test set\n",
    "              \n",
    "</p>\n"
   ]
  },
  {
   "cell_type": "code",
   "execution_count": 14,
   "id": "2faa96c7",
   "metadata": {
    "execution": {
     "iopub.execute_input": "2022-10-02T18:12:59.265770Z",
     "iopub.status.busy": "2022-10-02T18:12:59.265353Z",
     "iopub.status.idle": "2022-10-02T18:12:59.273506Z",
     "shell.execute_reply": "2022-10-02T18:12:59.272421Z"
    },
    "papermill": {
     "duration": 0.024745,
     "end_time": "2022-10-02T18:12:59.275611",
     "exception": false,
     "start_time": "2022-10-02T18:12:59.250866",
     "status": "completed"
    },
    "tags": []
   },
   "outputs": [
    {
     "data": {
      "text/plain": [
       "(852, 1)"
      ]
     },
     "execution_count": 14,
     "metadata": {},
     "output_type": "execute_result"
    }
   ],
   "source": [
    "train_size = int(len(df) * 0.70)\n",
    "test_size = len(df) - train_size\n",
    "\n",
    "train, test = df[0:train_size,:], df[train_size:len(df),:]\n",
    "\n",
    "train.shape"
   ]
  },
  {
   "cell_type": "code",
   "execution_count": 15,
   "id": "337e96fc",
   "metadata": {
    "execution": {
     "iopub.execute_input": "2022-10-02T18:12:59.303425Z",
     "iopub.status.busy": "2022-10-02T18:12:59.302675Z",
     "iopub.status.idle": "2022-10-02T18:12:59.309380Z",
     "shell.execute_reply": "2022-10-02T18:12:59.308285Z"
    },
    "papermill": {
     "duration": 0.02287,
     "end_time": "2022-10-02T18:12:59.311531",
     "exception": false,
     "start_time": "2022-10-02T18:12:59.288661",
     "status": "completed"
    },
    "tags": []
   },
   "outputs": [
    {
     "data": {
      "text/plain": [
       "(366, 1)"
      ]
     },
     "execution_count": 15,
     "metadata": {},
     "output_type": "execute_result"
    }
   ],
   "source": [
    "test.shape"
   ]
  },
  {
   "cell_type": "code",
   "execution_count": 16,
   "id": "82e2ff5b",
   "metadata": {
    "execution": {
     "iopub.execute_input": "2022-10-02T18:12:59.339536Z",
     "iopub.status.busy": "2022-10-02T18:12:59.338865Z",
     "iopub.status.idle": "2022-10-02T18:12:59.346274Z",
     "shell.execute_reply": "2022-10-02T18:12:59.345383Z"
    },
    "papermill": {
     "duration": 0.024071,
     "end_time": "2022-10-02T18:12:59.348670",
     "exception": false,
     "start_time": "2022-10-02T18:12:59.324599",
     "status": "completed"
    },
    "tags": []
   },
   "outputs": [],
   "source": [
    "look_back = 90\n",
    "\n",
    "xtrain, ytrain = create_dataset(train, look_back)\n",
    "xtest, ytest = create_dataset(test, look_back)"
   ]
  },
  {
   "cell_type": "code",
   "execution_count": 17,
   "id": "3d791017",
   "metadata": {
    "execution": {
     "iopub.execute_input": "2022-10-02T18:12:59.376760Z",
     "iopub.status.busy": "2022-10-02T18:12:59.376354Z",
     "iopub.status.idle": "2022-10-02T18:12:59.382348Z",
     "shell.execute_reply": "2022-10-02T18:12:59.381033Z"
    },
    "papermill": {
     "duration": 0.022472,
     "end_time": "2022-10-02T18:12:59.384486",
     "exception": false,
     "start_time": "2022-10-02T18:12:59.362014",
     "status": "completed"
    },
    "tags": []
   },
   "outputs": [],
   "source": [
    "xtrain = np.reshape(xtrain, (xtrain.shape[0], 1, xtrain.shape[1]))\n",
    "xtest = np.reshape(xtest, (xtest.shape[0], 1, xtest.shape[1]))"
   ]
  },
  {
   "cell_type": "code",
   "execution_count": 18,
   "id": "c3dc3f19",
   "metadata": {
    "execution": {
     "iopub.execute_input": "2022-10-02T18:12:59.412469Z",
     "iopub.status.busy": "2022-10-02T18:12:59.412091Z",
     "iopub.status.idle": "2022-10-02T18:12:59.419102Z",
     "shell.execute_reply": "2022-10-02T18:12:59.418108Z"
    },
    "papermill": {
     "duration": 0.023728,
     "end_time": "2022-10-02T18:12:59.421470",
     "exception": false,
     "start_time": "2022-10-02T18:12:59.397742",
     "status": "completed"
    },
    "tags": []
   },
   "outputs": [
    {
     "data": {
      "text/plain": [
       "(761, 1, 90)"
      ]
     },
     "execution_count": 18,
     "metadata": {},
     "output_type": "execute_result"
    }
   ],
   "source": [
    "xtrain.shape"
   ]
  },
  {
   "cell_type": "code",
   "execution_count": 19,
   "id": "f922f8b7",
   "metadata": {
    "execution": {
     "iopub.execute_input": "2022-10-02T18:12:59.449700Z",
     "iopub.status.busy": "2022-10-02T18:12:59.449271Z",
     "iopub.status.idle": "2022-10-02T18:12:59.455489Z",
     "shell.execute_reply": "2022-10-02T18:12:59.454695Z"
    },
    "papermill": {
     "duration": 0.022734,
     "end_time": "2022-10-02T18:12:59.457470",
     "exception": false,
     "start_time": "2022-10-02T18:12:59.434736",
     "status": "completed"
    },
    "tags": []
   },
   "outputs": [
    {
     "data": {
      "text/plain": [
       "(275, 1, 90)"
      ]
     },
     "execution_count": 19,
     "metadata": {},
     "output_type": "execute_result"
    }
   ],
   "source": [
    "xtest.shape"
   ]
  },
  {
   "cell_type": "code",
   "execution_count": 20,
   "id": "3341f231",
   "metadata": {
    "execution": {
     "iopub.execute_input": "2022-10-02T18:12:59.485654Z",
     "iopub.status.busy": "2022-10-02T18:12:59.485200Z",
     "iopub.status.idle": "2022-10-02T18:12:59.491601Z",
     "shell.execute_reply": "2022-10-02T18:12:59.490520Z"
    },
    "papermill": {
     "duration": 0.024007,
     "end_time": "2022-10-02T18:12:59.494810",
     "exception": false,
     "start_time": "2022-10-02T18:12:59.470803",
     "status": "completed"
    },
    "tags": []
   },
   "outputs": [
    {
     "name": "stdout",
     "output_type": "stream",
     "text": [
      "xtrain shape is (761, 1, 90)\n",
      "ytrain shape is (761,)\n",
      "xtest shape is (275, 1, 90)\n",
      "ytest shape is (275,)\n"
     ]
    }
   ],
   "source": [
    "print('xtrain shape is {}'.format(xtrain.shape))\n",
    "print('ytrain shape is {}'.format(ytrain.shape))\n",
    "print('xtest shape is {}'.format(xtest.shape))\n",
    "print('ytest shape is {}'.format(ytest.shape))"
   ]
  },
  {
   "cell_type": "markdown",
   "id": "96685c92",
   "metadata": {
    "papermill": {
     "duration": 0.01312,
     "end_time": "2022-10-02T18:12:59.522340",
     "exception": false,
     "start_time": "2022-10-02T18:12:59.509220",
     "status": "completed"
    },
    "tags": []
   },
   "source": [
    "<div style=\"color:white;\n",
    "           display:fill;\n",
    "           border-radius:5px;\n",
    "           background-color:black;\n",
    "           font-size:110%;\n",
    "           font-family:Verdana;\n",
    "           letter-spacing:0.5px\">\n",
    "\n",
    "<p style=\"padding: 10px;\n",
    "              color:white;\n",
    "              text-align:center;\">\n",
    "                            Create & fit LSTM Bidirectional Network\n",
    "              \n",
    "</p>\n",
    "</div>"
   ]
  },
  {
   "cell_type": "code",
   "execution_count": 21,
   "id": "6cde9201",
   "metadata": {
    "execution": {
     "iopub.execute_input": "2022-10-02T18:12:59.551042Z",
     "iopub.status.busy": "2022-10-02T18:12:59.550385Z",
     "iopub.status.idle": "2022-10-02T18:12:59.645267Z",
     "shell.execute_reply": "2022-10-02T18:12:59.644203Z"
    },
    "papermill": {
     "duration": 0.112381,
     "end_time": "2022-10-02T18:12:59.648270",
     "exception": false,
     "start_time": "2022-10-02T18:12:59.535889",
     "status": "completed"
    },
    "tags": []
   },
   "outputs": [
    {
     "name": "stderr",
     "output_type": "stream",
     "text": [
      "2022-10-02 18:12:59.586577: I tensorflow/core/common_runtime/process_util.cc:146] Creating new thread pool with default inter op setting: 2. Tune using inter_op_parallelism_threads for best performance.\n"
     ]
    }
   ],
   "source": [
    "model = Sequential()\n",
    "model.add(Bidirectional(LSTM(100, activation='relu', input_shape=(100,1))))\n",
    "model.add(Dense(1))\n",
    "model.compile(loss='mean_squared_error', optimizer='adam')"
   ]
  },
  {
   "cell_type": "code",
   "execution_count": 22,
   "id": "737e6471",
   "metadata": {
    "execution": {
     "iopub.execute_input": "2022-10-02T18:12:59.677781Z",
     "iopub.status.busy": "2022-10-02T18:12:59.677123Z",
     "iopub.status.idle": "2022-10-02T18:14:14.960020Z",
     "shell.execute_reply": "2022-10-02T18:14:14.958797Z"
    },
    "papermill": {
     "duration": 75.299756,
     "end_time": "2022-10-02T18:14:14.962424",
     "exception": false,
     "start_time": "2022-10-02T18:12:59.662668",
     "status": "completed"
    },
    "tags": []
   },
   "outputs": [
    {
     "name": "stderr",
     "output_type": "stream",
     "text": [
      "2022-10-02 18:12:59.760892: I tensorflow/compiler/mlir/mlir_graph_optimization_pass.cc:185] None of the MLIR Optimization Passes are enabled (registered 2)\n"
     ]
    },
    {
     "name": "stdout",
     "output_type": "stream",
     "text": [
      "Epoch 1/200\n",
      "153/153 - 4s - loss: 0.0164\n",
      "Epoch 2/200\n",
      "153/153 - 0s - loss: 0.0027\n",
      "Epoch 3/200\n",
      "153/153 - 0s - loss: 0.0018\n",
      "Epoch 4/200\n",
      "153/153 - 0s - loss: 0.0016\n",
      "Epoch 5/200\n",
      "153/153 - 0s - loss: 0.0016\n",
      "Epoch 6/200\n",
      "153/153 - 0s - loss: 0.0012\n",
      "Epoch 7/200\n",
      "153/153 - 0s - loss: 0.0013\n",
      "Epoch 8/200\n",
      "153/153 - 0s - loss: 0.0010\n",
      "Epoch 9/200\n",
      "153/153 - 0s - loss: 0.0013\n",
      "Epoch 10/200\n",
      "153/153 - 0s - loss: 8.9700e-04\n",
      "Epoch 11/200\n",
      "153/153 - 0s - loss: 0.0012\n",
      "Epoch 12/200\n",
      "153/153 - 0s - loss: 9.4659e-04\n",
      "Epoch 13/200\n",
      "153/153 - 0s - loss: 0.0014\n",
      "Epoch 14/200\n",
      "153/153 - 0s - loss: 0.0015\n",
      "Epoch 15/200\n",
      "153/153 - 0s - loss: 0.0011\n",
      "Epoch 16/200\n",
      "153/153 - 0s - loss: 0.0011\n",
      "Epoch 17/200\n",
      "153/153 - 0s - loss: 7.8959e-04\n",
      "Epoch 18/200\n",
      "153/153 - 0s - loss: 7.5493e-04\n",
      "Epoch 19/200\n",
      "153/153 - 0s - loss: 7.3077e-04\n",
      "Epoch 20/200\n",
      "153/153 - 0s - loss: 8.2358e-04\n",
      "Epoch 21/200\n",
      "153/153 - 0s - loss: 7.1639e-04\n",
      "Epoch 22/200\n",
      "153/153 - 0s - loss: 6.5978e-04\n",
      "Epoch 23/200\n",
      "153/153 - 0s - loss: 6.3194e-04\n",
      "Epoch 24/200\n",
      "153/153 - 0s - loss: 8.6661e-04\n",
      "Epoch 25/200\n",
      "153/153 - 0s - loss: 8.4822e-04\n",
      "Epoch 26/200\n",
      "153/153 - 0s - loss: 8.9044e-04\n",
      "Epoch 27/200\n",
      "153/153 - 0s - loss: 6.3185e-04\n",
      "Epoch 28/200\n",
      "153/153 - 0s - loss: 6.5120e-04\n",
      "Epoch 29/200\n",
      "153/153 - 0s - loss: 7.1181e-04\n",
      "Epoch 30/200\n",
      "153/153 - 0s - loss: 6.5238e-04\n",
      "Epoch 31/200\n",
      "153/153 - 0s - loss: 7.1552e-04\n",
      "Epoch 32/200\n",
      "153/153 - 0s - loss: 5.3725e-04\n",
      "Epoch 33/200\n",
      "153/153 - 0s - loss: 6.5994e-04\n",
      "Epoch 34/200\n",
      "153/153 - 0s - loss: 5.7692e-04\n",
      "Epoch 35/200\n",
      "153/153 - 0s - loss: 7.2880e-04\n",
      "Epoch 36/200\n",
      "153/153 - 0s - loss: 9.2221e-04\n",
      "Epoch 37/200\n",
      "153/153 - 0s - loss: 5.2027e-04\n",
      "Epoch 38/200\n",
      "153/153 - 0s - loss: 6.3265e-04\n",
      "Epoch 39/200\n",
      "153/153 - 0s - loss: 0.0010\n",
      "Epoch 40/200\n",
      "153/153 - 0s - loss: 6.9767e-04\n",
      "Epoch 41/200\n",
      "153/153 - 0s - loss: 6.1408e-04\n",
      "Epoch 42/200\n",
      "153/153 - 0s - loss: 6.7128e-04\n",
      "Epoch 43/200\n",
      "153/153 - 0s - loss: 5.5034e-04\n",
      "Epoch 44/200\n",
      "153/153 - 0s - loss: 5.6527e-04\n",
      "Epoch 45/200\n",
      "153/153 - 0s - loss: 5.6364e-04\n",
      "Epoch 46/200\n",
      "153/153 - 0s - loss: 6.3131e-04\n",
      "Epoch 47/200\n",
      "153/153 - 0s - loss: 6.4920e-04\n",
      "Epoch 48/200\n",
      "153/153 - 0s - loss: 7.0526e-04\n",
      "Epoch 49/200\n",
      "153/153 - 0s - loss: 5.3488e-04\n",
      "Epoch 50/200\n",
      "153/153 - 0s - loss: 7.4046e-04\n",
      "Epoch 51/200\n",
      "153/153 - 0s - loss: 6.6780e-04\n",
      "Epoch 52/200\n",
      "153/153 - 0s - loss: 5.1981e-04\n",
      "Epoch 53/200\n",
      "153/153 - 0s - loss: 5.3027e-04\n",
      "Epoch 54/200\n",
      "153/153 - 0s - loss: 7.9312e-04\n",
      "Epoch 55/200\n",
      "153/153 - 0s - loss: 5.0447e-04\n",
      "Epoch 56/200\n",
      "153/153 - 0s - loss: 5.1571e-04\n",
      "Epoch 57/200\n",
      "153/153 - 0s - loss: 5.9009e-04\n",
      "Epoch 58/200\n",
      "153/153 - 0s - loss: 4.6167e-04\n",
      "Epoch 59/200\n",
      "153/153 - 0s - loss: 5.3887e-04\n",
      "Epoch 60/200\n",
      "153/153 - 0s - loss: 4.5780e-04\n",
      "Epoch 61/200\n",
      "153/153 - 0s - loss: 4.3100e-04\n",
      "Epoch 62/200\n",
      "153/153 - 0s - loss: 4.6312e-04\n",
      "Epoch 63/200\n",
      "153/153 - 0s - loss: 5.9953e-04\n",
      "Epoch 64/200\n",
      "153/153 - 0s - loss: 6.0900e-04\n",
      "Epoch 65/200\n",
      "153/153 - 0s - loss: 5.6320e-04\n",
      "Epoch 66/200\n",
      "153/153 - 0s - loss: 6.0936e-04\n",
      "Epoch 67/200\n",
      "153/153 - 0s - loss: 5.3616e-04\n",
      "Epoch 68/200\n",
      "153/153 - 0s - loss: 4.3010e-04\n",
      "Epoch 69/200\n",
      "153/153 - 0s - loss: 4.5800e-04\n",
      "Epoch 70/200\n",
      "153/153 - 0s - loss: 5.8191e-04\n",
      "Epoch 71/200\n",
      "153/153 - 0s - loss: 5.0447e-04\n",
      "Epoch 72/200\n",
      "153/153 - 0s - loss: 5.4044e-04\n",
      "Epoch 73/200\n",
      "153/153 - 0s - loss: 6.3427e-04\n",
      "Epoch 74/200\n",
      "153/153 - 0s - loss: 4.7069e-04\n",
      "Epoch 75/200\n",
      "153/153 - 0s - loss: 4.1695e-04\n",
      "Epoch 76/200\n",
      "153/153 - 0s - loss: 7.3745e-04\n",
      "Epoch 77/200\n",
      "153/153 - 0s - loss: 4.6835e-04\n",
      "Epoch 78/200\n",
      "153/153 - 0s - loss: 6.0222e-04\n",
      "Epoch 79/200\n",
      "153/153 - 0s - loss: 5.4314e-04\n",
      "Epoch 80/200\n",
      "153/153 - 1s - loss: 4.7709e-04\n",
      "Epoch 81/200\n",
      "153/153 - 0s - loss: 4.6131e-04\n",
      "Epoch 82/200\n",
      "153/153 - 0s - loss: 5.5437e-04\n",
      "Epoch 83/200\n",
      "153/153 - 0s - loss: 4.7396e-04\n",
      "Epoch 84/200\n",
      "153/153 - 0s - loss: 3.9620e-04\n",
      "Epoch 85/200\n",
      "153/153 - 0s - loss: 5.0923e-04\n",
      "Epoch 86/200\n",
      "153/153 - 0s - loss: 4.8914e-04\n",
      "Epoch 87/200\n",
      "153/153 - 0s - loss: 3.9792e-04\n",
      "Epoch 88/200\n",
      "153/153 - 0s - loss: 5.0468e-04\n",
      "Epoch 89/200\n",
      "153/153 - 0s - loss: 4.5511e-04\n",
      "Epoch 90/200\n",
      "153/153 - 0s - loss: 3.9892e-04\n",
      "Epoch 91/200\n",
      "153/153 - 0s - loss: 4.3972e-04\n",
      "Epoch 92/200\n",
      "153/153 - 0s - loss: 4.4317e-04\n",
      "Epoch 93/200\n",
      "153/153 - 0s - loss: 4.0848e-04\n",
      "Epoch 94/200\n",
      "153/153 - 0s - loss: 4.2915e-04\n",
      "Epoch 95/200\n",
      "153/153 - 0s - loss: 4.3599e-04\n",
      "Epoch 96/200\n",
      "153/153 - 0s - loss: 4.6752e-04\n",
      "Epoch 97/200\n",
      "153/153 - 0s - loss: 4.4731e-04\n",
      "Epoch 98/200\n",
      "153/153 - 0s - loss: 3.8163e-04\n",
      "Epoch 99/200\n",
      "153/153 - 0s - loss: 4.3013e-04\n",
      "Epoch 100/200\n",
      "153/153 - 0s - loss: 4.3581e-04\n",
      "Epoch 101/200\n",
      "153/153 - 0s - loss: 4.5664e-04\n",
      "Epoch 102/200\n",
      "153/153 - 0s - loss: 4.3586e-04\n",
      "Epoch 103/200\n",
      "153/153 - 0s - loss: 4.4879e-04\n",
      "Epoch 104/200\n",
      "153/153 - 0s - loss: 4.7423e-04\n",
      "Epoch 105/200\n",
      "153/153 - 0s - loss: 4.4665e-04\n",
      "Epoch 106/200\n",
      "153/153 - 0s - loss: 4.3839e-04\n",
      "Epoch 107/200\n",
      "153/153 - 0s - loss: 5.1063e-04\n",
      "Epoch 108/200\n",
      "153/153 - 0s - loss: 3.6237e-04\n",
      "Epoch 109/200\n",
      "153/153 - 0s - loss: 4.3201e-04\n",
      "Epoch 110/200\n",
      "153/153 - 0s - loss: 5.5232e-04\n",
      "Epoch 111/200\n",
      "153/153 - 0s - loss: 3.7973e-04\n",
      "Epoch 112/200\n",
      "153/153 - 0s - loss: 3.7574e-04\n",
      "Epoch 113/200\n",
      "153/153 - 0s - loss: 3.6418e-04\n",
      "Epoch 114/200\n",
      "153/153 - 0s - loss: 4.3162e-04\n",
      "Epoch 115/200\n",
      "153/153 - 0s - loss: 3.7406e-04\n",
      "Epoch 116/200\n",
      "153/153 - 0s - loss: 4.5606e-04\n",
      "Epoch 117/200\n",
      "153/153 - 0s - loss: 3.7713e-04\n",
      "Epoch 118/200\n",
      "153/153 - 0s - loss: 4.0508e-04\n",
      "Epoch 119/200\n",
      "153/153 - 0s - loss: 4.5183e-04\n",
      "Epoch 120/200\n",
      "153/153 - 0s - loss: 3.8200e-04\n",
      "Epoch 121/200\n",
      "153/153 - 0s - loss: 4.1785e-04\n",
      "Epoch 122/200\n",
      "153/153 - 0s - loss: 4.1318e-04\n",
      "Epoch 123/200\n",
      "153/153 - 0s - loss: 4.0293e-04\n",
      "Epoch 124/200\n",
      "153/153 - 0s - loss: 4.4827e-04\n",
      "Epoch 125/200\n",
      "153/153 - 0s - loss: 4.6802e-04\n",
      "Epoch 126/200\n",
      "153/153 - 0s - loss: 4.0248e-04\n",
      "Epoch 127/200\n",
      "153/153 - 0s - loss: 3.5767e-04\n",
      "Epoch 128/200\n",
      "153/153 - 0s - loss: 4.2481e-04\n",
      "Epoch 129/200\n",
      "153/153 - 0s - loss: 3.7045e-04\n",
      "Epoch 130/200\n",
      "153/153 - 0s - loss: 3.4571e-04\n",
      "Epoch 131/200\n",
      "153/153 - 0s - loss: 3.9694e-04\n",
      "Epoch 132/200\n",
      "153/153 - 0s - loss: 3.6707e-04\n",
      "Epoch 133/200\n",
      "153/153 - 0s - loss: 3.5213e-04\n",
      "Epoch 134/200\n",
      "153/153 - 0s - loss: 4.1032e-04\n",
      "Epoch 135/200\n",
      "153/153 - 0s - loss: 3.6398e-04\n",
      "Epoch 136/200\n",
      "153/153 - 0s - loss: 4.2105e-04\n",
      "Epoch 137/200\n",
      "153/153 - 0s - loss: 4.1026e-04\n",
      "Epoch 138/200\n",
      "153/153 - 0s - loss: 3.9685e-04\n",
      "Epoch 139/200\n",
      "153/153 - 0s - loss: 3.2650e-04\n",
      "Epoch 140/200\n",
      "153/153 - 0s - loss: 4.5680e-04\n",
      "Epoch 141/200\n",
      "153/153 - 0s - loss: 3.5717e-04\n",
      "Epoch 142/200\n",
      "153/153 - 0s - loss: 3.3434e-04\n",
      "Epoch 143/200\n",
      "153/153 - 0s - loss: 4.0999e-04\n",
      "Epoch 144/200\n",
      "153/153 - 0s - loss: 4.1345e-04\n",
      "Epoch 145/200\n",
      "153/153 - 0s - loss: 3.6402e-04\n",
      "Epoch 146/200\n",
      "153/153 - 0s - loss: 6.1604e-04\n",
      "Epoch 147/200\n",
      "153/153 - 0s - loss: 4.0397e-04\n",
      "Epoch 148/200\n",
      "153/153 - 0s - loss: 2.9610e-04\n",
      "Epoch 149/200\n",
      "153/153 - 0s - loss: 3.4925e-04\n",
      "Epoch 150/200\n",
      "153/153 - 0s - loss: 3.4348e-04\n",
      "Epoch 151/200\n",
      "153/153 - 0s - loss: 3.9863e-04\n",
      "Epoch 152/200\n",
      "153/153 - 0s - loss: 3.7208e-04\n",
      "Epoch 153/200\n",
      "153/153 - 0s - loss: 3.4333e-04\n",
      "Epoch 154/200\n",
      "153/153 - 0s - loss: 4.6048e-04\n",
      "Epoch 155/200\n",
      "153/153 - 0s - loss: 4.3931e-04\n",
      "Epoch 156/200\n",
      "153/153 - 0s - loss: 4.9144e-04\n",
      "Epoch 157/200\n",
      "153/153 - 0s - loss: 3.9670e-04\n",
      "Epoch 158/200\n",
      "153/153 - 0s - loss: 3.3289e-04\n",
      "Epoch 159/200\n",
      "153/153 - 0s - loss: 3.5259e-04\n",
      "Epoch 160/200\n",
      "153/153 - 0s - loss: 3.4352e-04\n",
      "Epoch 161/200\n",
      "153/153 - 0s - loss: 3.5577e-04\n",
      "Epoch 162/200\n",
      "153/153 - 0s - loss: 3.6216e-04\n",
      "Epoch 163/200\n",
      "153/153 - 0s - loss: 3.7269e-04\n",
      "Epoch 164/200\n",
      "153/153 - 0s - loss: 4.1989e-04\n",
      "Epoch 165/200\n",
      "153/153 - 0s - loss: 3.6937e-04\n",
      "Epoch 166/200\n",
      "153/153 - 0s - loss: 3.2730e-04\n",
      "Epoch 167/200\n",
      "153/153 - 0s - loss: 3.7573e-04\n",
      "Epoch 168/200\n",
      "153/153 - 0s - loss: 4.8125e-04\n",
      "Epoch 169/200\n",
      "153/153 - 0s - loss: 4.4199e-04\n",
      "Epoch 170/200\n",
      "153/153 - 0s - loss: 3.5143e-04\n",
      "Epoch 171/200\n",
      "153/153 - 0s - loss: 3.6406e-04\n",
      "Epoch 172/200\n",
      "153/153 - 0s - loss: 4.3851e-04\n",
      "Epoch 173/200\n",
      "153/153 - 0s - loss: 3.3798e-04\n",
      "Epoch 174/200\n",
      "153/153 - 0s - loss: 3.8917e-04\n",
      "Epoch 175/200\n",
      "153/153 - 0s - loss: 3.6277e-04\n",
      "Epoch 176/200\n",
      "153/153 - 0s - loss: 3.3734e-04\n",
      "Epoch 177/200\n",
      "153/153 - 0s - loss: 3.7381e-04\n",
      "Epoch 178/200\n",
      "153/153 - 0s - loss: 3.2684e-04\n",
      "Epoch 179/200\n",
      "153/153 - 0s - loss: 3.5623e-04\n",
      "Epoch 180/200\n",
      "153/153 - 0s - loss: 3.3809e-04\n",
      "Epoch 181/200\n",
      "153/153 - 0s - loss: 4.0533e-04\n",
      "Epoch 182/200\n",
      "153/153 - 0s - loss: 3.4894e-04\n",
      "Epoch 183/200\n",
      "153/153 - 0s - loss: 3.9626e-04\n",
      "Epoch 184/200\n",
      "153/153 - 0s - loss: 3.9388e-04\n",
      "Epoch 185/200\n",
      "153/153 - 0s - loss: 3.4132e-04\n",
      "Epoch 186/200\n",
      "153/153 - 0s - loss: 2.9930e-04\n",
      "Epoch 187/200\n",
      "153/153 - 0s - loss: 3.8082e-04\n",
      "Epoch 188/200\n",
      "153/153 - 0s - loss: 3.7022e-04\n",
      "Epoch 189/200\n",
      "153/153 - 0s - loss: 3.8366e-04\n",
      "Epoch 190/200\n",
      "153/153 - 0s - loss: 3.2018e-04\n",
      "Epoch 191/200\n",
      "153/153 - 0s - loss: 3.9156e-04\n",
      "Epoch 192/200\n",
      "153/153 - 0s - loss: 3.7002e-04\n",
      "Epoch 193/200\n",
      "153/153 - 0s - loss: 3.4165e-04\n",
      "Epoch 194/200\n",
      "153/153 - 0s - loss: 3.5214e-04\n",
      "Epoch 195/200\n",
      "153/153 - 0s - loss: 4.0227e-04\n",
      "Epoch 196/200\n",
      "153/153 - 0s - loss: 3.9678e-04\n",
      "Epoch 197/200\n",
      "153/153 - 0s - loss: 3.3737e-04\n",
      "Epoch 198/200\n",
      "153/153 - 0s - loss: 3.4322e-04\n",
      "Epoch 199/200\n",
      "153/153 - 0s - loss: 3.7953e-04\n",
      "Epoch 200/200\n",
      "153/153 - 0s - loss: 3.6263e-04\n"
     ]
    },
    {
     "data": {
      "text/plain": [
       "<keras.callbacks.History at 0x7fa0e9ea37d0>"
      ]
     },
     "execution_count": 22,
     "metadata": {},
     "output_type": "execute_result"
    }
   ],
   "source": [
    "model.fit(xtrain, ytrain, epochs=200, batch_size=5, verbose=2)"
   ]
  },
  {
   "cell_type": "code",
   "execution_count": 23,
   "id": "0b3a854a",
   "metadata": {
    "execution": {
     "iopub.execute_input": "2022-10-02T18:14:15.038625Z",
     "iopub.status.busy": "2022-10-02T18:14:15.037463Z",
     "iopub.status.idle": "2022-10-02T18:14:19.246841Z",
     "shell.execute_reply": "2022-10-02T18:14:19.245215Z"
    },
    "papermill": {
     "duration": 4.250137,
     "end_time": "2022-10-02T18:14:19.249444",
     "exception": false,
     "start_time": "2022-10-02T18:14:14.999307",
     "status": "completed"
    },
    "tags": []
   },
   "outputs": [
    {
     "name": "stdout",
     "output_type": "stream",
     "text": [
      "Epoch 1/100\n",
      "24/24 [==============================] - 1s 25ms/step - loss: 2.6126e-04 - val_loss: 2.4591e-04\n",
      "Epoch 2/100\n",
      "24/24 [==============================] - 0s 5ms/step - loss: 2.5009e-04 - val_loss: 2.8958e-04\n",
      "Epoch 3/100\n",
      "24/24 [==============================] - 0s 5ms/step - loss: 2.4612e-04 - val_loss: 2.5164e-04\n",
      "Epoch 4/100\n",
      "24/24 [==============================] - 0s 5ms/step - loss: 2.5910e-04 - val_loss: 2.7991e-04\n",
      "Epoch 5/100\n",
      "24/24 [==============================] - 0s 5ms/step - loss: 2.4414e-04 - val_loss: 2.6227e-04\n",
      "Epoch 6/100\n",
      "24/24 [==============================] - 0s 5ms/step - loss: 2.6696e-04 - val_loss: 2.6630e-04\n",
      "Epoch 7/100\n",
      "24/24 [==============================] - 0s 5ms/step - loss: 2.4817e-04 - val_loss: 2.6393e-04\n",
      "Epoch 8/100\n",
      "24/24 [==============================] - 0s 5ms/step - loss: 2.5508e-04 - val_loss: 2.3851e-04\n",
      "Epoch 9/100\n",
      "24/24 [==============================] - 0s 5ms/step - loss: 2.4231e-04 - val_loss: 2.7387e-04\n",
      "Epoch 10/100\n",
      "24/24 [==============================] - 0s 5ms/step - loss: 2.4964e-04 - val_loss: 2.7432e-04\n",
      "Epoch 11/100\n",
      "24/24 [==============================] - 0s 5ms/step - loss: 2.4445e-04 - val_loss: 2.3882e-04\n",
      "Epoch 12/100\n",
      "24/24 [==============================] - 0s 5ms/step - loss: 2.4324e-04 - val_loss: 2.3343e-04\n",
      "Epoch 13/100\n",
      "24/24 [==============================] - 0s 5ms/step - loss: 2.4266e-04 - val_loss: 2.6682e-04\n",
      "Epoch 14/100\n",
      "24/24 [==============================] - 0s 5ms/step - loss: 2.5992e-04 - val_loss: 2.3415e-04\n",
      "Epoch 15/100\n",
      "24/24 [==============================] - 0s 5ms/step - loss: 2.7989e-04 - val_loss: 2.6422e-04\n",
      "Epoch 16/100\n",
      "24/24 [==============================] - 0s 5ms/step - loss: 2.4786e-04 - val_loss: 2.6879e-04\n",
      "Epoch 17/100\n",
      "24/24 [==============================] - 0s 5ms/step - loss: 2.4485e-04 - val_loss: 2.5247e-04\n",
      "Epoch 18/100\n",
      "24/24 [==============================] - 0s 5ms/step - loss: 2.4337e-04 - val_loss: 2.5846e-04\n",
      "Epoch 19/100\n",
      "24/24 [==============================] - 0s 5ms/step - loss: 2.5259e-04 - val_loss: 2.4691e-04\n",
      "Epoch 20/100\n",
      "24/24 [==============================] - 0s 5ms/step - loss: 2.5124e-04 - val_loss: 2.4395e-04\n",
      "Epoch 21/100\n",
      "24/24 [==============================] - 0s 5ms/step - loss: 2.4832e-04 - val_loss: 2.8188e-04\n",
      "Epoch 22/100\n",
      "24/24 [==============================] - 0s 5ms/step - loss: 2.4485e-04 - val_loss: 3.2171e-04\n",
      "Epoch 23/100\n",
      "24/24 [==============================] - 0s 5ms/step - loss: 2.3974e-04 - val_loss: 2.5666e-04\n",
      "Epoch 24/100\n",
      "24/24 [==============================] - 0s 5ms/step - loss: 2.4298e-04 - val_loss: 2.6044e-04\n",
      "Epoch 25/100\n",
      "24/24 [==============================] - 0s 5ms/step - loss: 2.4202e-04 - val_loss: 3.1074e-04\n",
      "Epoch 26/100\n",
      "24/24 [==============================] - 0s 5ms/step - loss: 2.4609e-04 - val_loss: 3.1676e-04\n",
      "Epoch 27/100\n",
      "24/24 [==============================] - 0s 5ms/step - loss: 2.8370e-04 - val_loss: 2.6251e-04\n",
      "Epoch 28/100\n",
      "24/24 [==============================] - 0s 5ms/step - loss: 2.4537e-04 - val_loss: 2.4563e-04\n",
      "Epoch 29/100\n",
      "24/24 [==============================] - 0s 5ms/step - loss: 2.4421e-04 - val_loss: 2.3765e-04\n",
      "Epoch 30/100\n",
      "24/24 [==============================] - 0s 5ms/step - loss: 2.4646e-04 - val_loss: 2.8339e-04\n",
      "Epoch 31/100\n",
      "24/24 [==============================] - 0s 5ms/step - loss: 2.5103e-04 - val_loss: 2.4454e-04\n",
      "Restoring model weights from the end of the best epoch.\n",
      "Epoch 00031: early stopping\n"
     ]
    }
   ],
   "source": [
    "monitor = EarlyStopping(monitor = 'val_loss', min_delta=1e-3, patience=30,\n",
    "                       verbose=1,mode='auto',restore_best_weights=True)\n",
    "\n",
    "history1=model.fit(xtrain,ytrain,validation_data=(xtest,ytest),\n",
    "        callbacks=[monitor],verbose=1,epochs=100)"
   ]
  },
  {
   "cell_type": "code",
   "execution_count": 24,
   "id": "093b0c21",
   "metadata": {
    "execution": {
     "iopub.execute_input": "2022-10-02T18:14:19.337114Z",
     "iopub.status.busy": "2022-10-02T18:14:19.336713Z",
     "iopub.status.idle": "2022-10-02T18:14:19.344138Z",
     "shell.execute_reply": "2022-10-02T18:14:19.342864Z"
    },
    "papermill": {
     "duration": 0.053685,
     "end_time": "2022-10-02T18:14:19.346450",
     "exception": false,
     "start_time": "2022-10-02T18:14:19.292765",
     "status": "completed"
    },
    "tags": []
   },
   "outputs": [
    {
     "name": "stdout",
     "output_type": "stream",
     "text": [
      "Model: \"sequential\"\n",
      "_________________________________________________________________\n",
      "Layer (type)                 Output Shape              Param #   \n",
      "=================================================================\n",
      "bidirectional (Bidirectional (None, 200)               152800    \n",
      "_________________________________________________________________\n",
      "dense (Dense)                (None, 1)                 201       \n",
      "=================================================================\n",
      "Total params: 153,001\n",
      "Trainable params: 153,001\n",
      "Non-trainable params: 0\n",
      "_________________________________________________________________\n"
     ]
    }
   ],
   "source": [
    "model.summary()"
   ]
  },
  {
   "cell_type": "markdown",
   "id": "7b9dec2f",
   "metadata": {
    "papermill": {
     "duration": 0.04172,
     "end_time": "2022-10-02T18:14:19.430731",
     "exception": false,
     "start_time": "2022-10-02T18:14:19.389011",
     "status": "completed"
    },
    "tags": []
   },
   "source": [
    "<div style=\"color:white;\n",
    "           display:fill;\n",
    "           border-radius:5px;\n",
    "           background-color:black;\n",
    "           font-size:110%;\n",
    "           font-family:Verdana;\n",
    "           letter-spacing:0.5px\">\n",
    "\n",
    "<p style=\"padding: 10px;\n",
    "              color:white;\n",
    "              text-align:center;\">\n",
    "                            Make Prediction\n",
    "              \n",
    "</p>\n",
    "</div>"
   ]
  },
  {
   "cell_type": "code",
   "execution_count": 25,
   "id": "50a334d4",
   "metadata": {
    "execution": {
     "iopub.execute_input": "2022-10-02T18:14:19.517776Z",
     "iopub.status.busy": "2022-10-02T18:14:19.517076Z",
     "iopub.status.idle": "2022-10-02T18:14:20.113770Z",
     "shell.execute_reply": "2022-10-02T18:14:20.112350Z"
    },
    "papermill": {
     "duration": 0.642865,
     "end_time": "2022-10-02T18:14:20.116469",
     "exception": false,
     "start_time": "2022-10-02T18:14:19.473604",
     "status": "completed"
    },
    "tags": []
   },
   "outputs": [],
   "source": [
    "train_pred = model.predict(xtrain)\n",
    "test_pred = model.predict(xtest)"
   ]
  },
  {
   "cell_type": "markdown",
   "id": "5ccd5ef1",
   "metadata": {
    "papermill": {
     "duration": 0.041917,
     "end_time": "2022-10-02T18:14:20.200955",
     "exception": false,
     "start_time": "2022-10-02T18:14:20.159038",
     "status": "completed"
    },
    "tags": []
   },
   "source": [
    "<div style=\"color:white;\n",
    "           display:fill;\n",
    "           border-radius:5px;\n",
    "           background-color:black;\n",
    "           font-size:110%;\n",
    "           font-family:Verdana;\n",
    "           letter-spacing:0.5px\">\n",
    "\n",
    "<p style=\"padding: 10px;\n",
    "              color:white;\n",
    "              text-align:center;\">\n",
    "                            Invert Prediction\n",
    "              \n",
    "</p>\n",
    "</div>"
   ]
  },
  {
   "cell_type": "code",
   "execution_count": 26,
   "id": "b5658a55",
   "metadata": {
    "execution": {
     "iopub.execute_input": "2022-10-02T18:14:20.287925Z",
     "iopub.status.busy": "2022-10-02T18:14:20.286932Z",
     "iopub.status.idle": "2022-10-02T18:14:20.293045Z",
     "shell.execute_reply": "2022-10-02T18:14:20.292053Z"
    },
    "papermill": {
     "duration": 0.052078,
     "end_time": "2022-10-02T18:14:20.295180",
     "exception": false,
     "start_time": "2022-10-02T18:14:20.243102",
     "status": "completed"
    },
    "tags": []
   },
   "outputs": [],
   "source": [
    "train_pred = scaler.inverse_transform(train_pred)\n",
    "ytrain = scaler.inverse_transform([ytrain])\n",
    "test_pred = scaler.inverse_transform(test_pred)\n",
    "ytest = scaler.inverse_transform([ytest])"
   ]
  },
  {
   "cell_type": "markdown",
   "id": "b84b2cfc",
   "metadata": {
    "papermill": {
     "duration": 0.041671,
     "end_time": "2022-10-02T18:14:20.378782",
     "exception": false,
     "start_time": "2022-10-02T18:14:20.337111",
     "status": "completed"
    },
    "tags": []
   },
   "source": [
    "<div style=\"color:white;\n",
    "           display:fill;\n",
    "           border-radius:5px;\n",
    "           background-color:black;\n",
    "           font-size:110%;\n",
    "           font-family:Verdana;\n",
    "           letter-spacing:0.5px\">\n",
    "\n",
    "<p style=\"padding: 10px;\n",
    "              color:white;\n",
    "              text-align:center;\">\n",
    "                            Calculate the root mean squared error\n",
    "              \n",
    "</p>\n",
    "</div>"
   ]
  },
  {
   "cell_type": "code",
   "execution_count": 27,
   "id": "86599f08",
   "metadata": {
    "execution": {
     "iopub.execute_input": "2022-10-02T18:14:20.464691Z",
     "iopub.status.busy": "2022-10-02T18:14:20.464080Z",
     "iopub.status.idle": "2022-10-02T18:14:20.471192Z",
     "shell.execute_reply": "2022-10-02T18:14:20.470044Z"
    },
    "papermill": {
     "duration": 0.053365,
     "end_time": "2022-10-02T18:14:20.474156",
     "exception": false,
     "start_time": "2022-10-02T18:14:20.420791",
     "status": "completed"
    },
    "tags": []
   },
   "outputs": [
    {
     "name": "stdout",
     "output_type": "stream",
     "text": [
      "Train Score: 1.32 RMSE\n",
      "Test Score: 1.32 RMSE\n"
     ]
    }
   ],
   "source": [
    "trainScore = math.sqrt(mean_squared_error(ytrain[0], train_pred[:,0]))\n",
    "print('Train Score: %.2f RMSE' % (trainScore))\n",
    "testScore = math.sqrt(mean_squared_error(ytest[0], test_pred[:,0]))\n",
    "print('Test Score: %.2f RMSE' % (testScore))"
   ]
  },
  {
   "cell_type": "code",
   "execution_count": 28,
   "id": "59771ab4",
   "metadata": {
    "execution": {
     "iopub.execute_input": "2022-10-02T18:14:20.561306Z",
     "iopub.status.busy": "2022-10-02T18:14:20.560105Z",
     "iopub.status.idle": "2022-10-02T18:14:20.569155Z",
     "shell.execute_reply": "2022-10-02T18:14:20.568235Z"
    },
    "papermill": {
     "duration": 0.055142,
     "end_time": "2022-10-02T18:14:20.571906",
     "exception": false,
     "start_time": "2022-10-02T18:14:20.516764",
     "status": "completed"
    },
    "tags": []
   },
   "outputs": [
    {
     "name": "stdout",
     "output_type": "stream",
     "text": [
      "Train Mean Absolute Error: 1.005800187540743\n",
      "Train Root Mean Squared Error: 1.3244135267957868\n",
      "Test Mean Absolute Error: 1.0315960521351208\n",
      "Test Root Mean Squared Error: 1.3239788194027398\n"
     ]
    }
   ],
   "source": [
    "print('Train Mean Absolute Error:', mean_absolute_error(ytrain[0], train_pred[:,0]))\n",
    "print('Train Root Mean Squared Error:',np.sqrt(mean_squared_error(ytrain[0], train_pred[:,0])))\n",
    "print('Test Mean Absolute Error:', mean_absolute_error(ytest[0], test_pred[:,0]))\n",
    "print('Test Root Mean Squared Error:',np.sqrt(mean_squared_error(ytest[0], test_pred[:,0])))"
   ]
  },
  {
   "cell_type": "markdown",
   "id": "8a76f5db",
   "metadata": {
    "papermill": {
     "duration": 0.041731,
     "end_time": "2022-10-02T18:14:20.656650",
     "exception": false,
     "start_time": "2022-10-02T18:14:20.614919",
     "status": "completed"
    },
    "tags": []
   },
   "source": [
    "<div style=\"color:white;\n",
    "           display:fill;\n",
    "           border-radius:5px;\n",
    "           background-color:black;\n",
    "           font-size:110%;\n",
    "           font-family:Verdana;\n",
    "           letter-spacing:0.5px\">\n",
    "\n",
    "<p style=\"padding: 10px;\n",
    "              color:white;\n",
    "              text-align:center;\">\n",
    "                            Plot Actual VS Predicted Values\n",
    "              \n",
    "</p>\n",
    "</div>"
   ]
  },
  {
   "cell_type": "code",
   "execution_count": 29,
   "id": "19ecf872",
   "metadata": {
    "execution": {
     "iopub.execute_input": "2022-10-02T18:14:20.742421Z",
     "iopub.status.busy": "2022-10-02T18:14:20.742011Z",
     "iopub.status.idle": "2022-10-02T18:14:20.995971Z",
     "shell.execute_reply": "2022-10-02T18:14:20.994905Z"
    },
    "papermill": {
     "duration": 0.299635,
     "end_time": "2022-10-02T18:14:20.998331",
     "exception": false,
     "start_time": "2022-10-02T18:14:20.698696",
     "status": "completed"
    },
    "tags": []
   },
   "outputs": [
    {
     "data": {
      "image/png": "[encoded data removed]",
      "text/plain": [
       "<Figure size 720x432 with 1 Axes>"
      ]
     },
     "metadata": {},
     "output_type": "display_data"
    }
   ],
   "source": [
    "plt.figure(figsize=(10,6))\n",
    "plt.plot(history1.history['loss'], label='Train Loss')\n",
    "plt.plot(history1.history['val_loss'], label='Test Loss')\n",
    "plt.title('model loss')\n",
    "plt.ylabel('loss')\n",
    "plt.xlabel('epochs')\n",
    "plt.legend(loc='upper right')\n",
    "plt.show();"
   ]
  },
  {
   "cell_type": "code",
   "execution_count": 30,
   "id": "d0a31741",
   "metadata": {
    "execution": {
     "iopub.execute_input": "2022-10-02T18:14:21.086487Z",
     "iopub.status.busy": "2022-10-02T18:14:21.086066Z",
     "iopub.status.idle": "2022-10-02T18:14:21.419651Z",
     "shell.execute_reply": "2022-10-02T18:14:21.418508Z"
    },
    "papermill": {
     "duration": 0.380479,
     "end_time": "2022-10-02T18:14:21.422119",
     "exception": false,
     "start_time": "2022-10-02T18:14:21.041640",
     "status": "completed"
    },
    "tags": []
   },
   "outputs": [
    {
     "data": {
      "image/png": "[encoded data removed]",
      "text/plain": [
       "<Figure size 1008x360 with 1 Axes>"
      ]
     },
     "metadata": {},
     "output_type": "display_data"
    }
   ],
   "source": [
    "aa=[x for x in range(200)]\n",
    "plt.figure(figsize=(14,5))\n",
    "plt.plot(aa, ytest[0][:200], marker='.', label=\"actual\")\n",
    "plt.plot(aa, test_pred[:,0][:200], 'r', label=\"prediction\")\n",
    "plt.tight_layout()\n",
    "sns.despine(top=True)\n",
    "plt.subplots_adjust(left=0.07)\n",
    "plt.ylabel('Price', size=15)\n",
    "plt.xlabel('Time step', size=15)\n",
    "plt.legend(fontsize=15)\n",
    "plt.show();"
   ]
  },
  {
   "cell_type": "code",
   "execution_count": null,
   "id": "219a5310",
   "metadata": {
    "papermill": {
     "duration": 0.044468,
     "end_time": "2022-10-02T18:14:21.511040",
     "exception": false,
     "start_time": "2022-10-02T18:14:21.466572",
     "status": "completed"
    },
    "tags": []
   },
   "outputs": [],
   "source": []
  }
 ],
 "metadata": {
  "kernelspec": {
   "display_name": "Python 3",
   "language": "python",
   "name": "python3"
  },
  "language_info": {
   "codemirror_mode": {
    "name": "ipython",
    "version": 3
   },
   "file_extension": ".py",
   "mimetype": "text/x-python",
   "name": "python",
   "nbconvert_exporter": "python",
   "pygments_lexer": "ipython3",
   "version": "3.7.12"
  },
  "papermill": {
   "default_parameters": {},
   "duration": 104.181975,
   "end_time": "2022-10-02T18:14:24.292174",
   "environment_variables": {},
   "exception": null,
   "input_path": "__notebook__.ipynb",
   "output_path": "__notebook__.ipynb",
   "parameters": {},
   "start_time": "2022-10-02T18:12:40.110199",
   "version": "2.3.4"
  }
 },
 "nbformat": 4,
 "nbformat_minor": 5
}
